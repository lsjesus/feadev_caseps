{
 "cells": [
  {
   "cell_type": "markdown",
   "metadata": {},
   "source": [
    "# **Case Avançado**"
   ]
  },
  {
   "cell_type": "markdown",
   "metadata": {},
   "source": [
    "Judy Hopps, uma coelha da zona rural, vai atrás de seu sonho tornar-se oficial no departamento de polícia da cidade de Zootopia. Juntamente de seu então parceiro Nick, eles vão até o DMV conseguir mais informações para resolverem um caso - e falam com Flecha, um funcionário de lá. Porém, após eles saírem, um amigo de Flecha o questiona se conhece alguém que possa ajudá-lo a analisar informações demográficas de países, com o intuito de implantar novas políticas públicas para Zootopia no futuro. Portanto, o ajudaremos."
   ]
  },
  {
   "cell_type": "code",
   "execution_count": 1,
   "metadata": {},
   "outputs": [
    {
     "name": "stdout",
     "output_type": "stream",
     "text": [
      "Collecting pandas\n",
      "  Downloading pandas-2.2.3-cp311-cp311-win_amd64.whl.metadata (19 kB)\n",
      "Collecting seaborn\n",
      "  Downloading seaborn-0.13.2-py3-none-any.whl.metadata (5.4 kB)\n",
      "Collecting matplotlib\n",
      "  Downloading matplotlib-3.10.1-cp311-cp311-win_amd64.whl.metadata (11 kB)\n",
      "Collecting numpy\n",
      "  Downloading numpy-2.2.4-cp311-cp311-win_amd64.whl.metadata (60 kB)\n",
      "     ---------------------------------------- 0.0/60.8 kB ? eta -:--:--\n",
      "     ------------------------- ------------ 41.0/60.8 kB 960.0 kB/s eta 0:00:01\n",
      "     ---------------------------------------- 60.8/60.8 kB 1.1 MB/s eta 0:00:00\n",
      "Requirement already satisfied: python-dateutil>=2.8.2 in c:\\users\\lucas\\appdata\\local\\packages\\pythonsoftwarefoundation.python.3.11_qbz5n2kfra8p0\\localcache\\local-packages\\python311\\site-packages (from pandas) (2.9.0.post0)\n",
      "Collecting pytz>=2020.1 (from pandas)\n",
      "  Downloading pytz-2025.1-py2.py3-none-any.whl.metadata (22 kB)\n",
      "Collecting tzdata>=2022.7 (from pandas)\n",
      "  Downloading tzdata-2025.1-py2.py3-none-any.whl.metadata (1.4 kB)\n",
      "Collecting contourpy>=1.0.1 (from matplotlib)\n",
      "  Downloading contourpy-1.3.1-cp311-cp311-win_amd64.whl.metadata (5.4 kB)\n",
      "Collecting cycler>=0.10 (from matplotlib)\n",
      "  Downloading cycler-0.12.1-py3-none-any.whl.metadata (3.8 kB)\n",
      "Collecting fonttools>=4.22.0 (from matplotlib)\n",
      "  Downloading fonttools-4.56.0-cp311-cp311-win_amd64.whl.metadata (103 kB)\n",
      "     ---------------------------------------- 0.0/104.0 kB ? eta -:--:--\n",
      "     -------------------------------------- 104.0/104.0 kB 2.0 MB/s eta 0:00:00\n",
      "Collecting kiwisolver>=1.3.1 (from matplotlib)\n",
      "  Downloading kiwisolver-1.4.8-cp311-cp311-win_amd64.whl.metadata (6.3 kB)\n",
      "Requirement already satisfied: packaging>=20.0 in c:\\users\\lucas\\appdata\\local\\packages\\pythonsoftwarefoundation.python.3.11_qbz5n2kfra8p0\\localcache\\local-packages\\python311\\site-packages (from matplotlib) (24.2)\n",
      "Collecting pillow>=8 (from matplotlib)\n",
      "  Downloading pillow-11.1.0-cp311-cp311-win_amd64.whl.metadata (9.3 kB)\n",
      "Collecting pyparsing>=2.3.1 (from matplotlib)\n",
      "  Downloading pyparsing-3.2.1-py3-none-any.whl.metadata (5.0 kB)\n",
      "Requirement already satisfied: six>=1.5 in c:\\users\\lucas\\appdata\\local\\packages\\pythonsoftwarefoundation.python.3.11_qbz5n2kfra8p0\\localcache\\local-packages\\python311\\site-packages (from python-dateutil>=2.8.2->pandas) (1.17.0)\n",
      "Downloading pandas-2.2.3-cp311-cp311-win_amd64.whl (11.6 MB)\n",
      "   ---------------------------------------- 0.0/11.6 MB ? eta -:--:--\n",
      "    --------------------------------------- 0.2/11.6 MB 4.7 MB/s eta 0:00:03\n",
      "   - -------------------------------------- 0.4/11.6 MB 4.2 MB/s eta 0:00:03\n",
      "   -- ------------------------------------- 0.6/11.6 MB 4.6 MB/s eta 0:00:03\n",
      "   -- ------------------------------------- 0.8/11.6 MB 4.4 MB/s eta 0:00:03\n",
      "   --- ------------------------------------ 0.9/11.6 MB 4.0 MB/s eta 0:00:03\n",
      "   --- ------------------------------------ 1.0/11.6 MB 4.0 MB/s eta 0:00:03\n",
      "   --- ------------------------------------ 1.1/11.6 MB 3.7 MB/s eta 0:00:03\n",
      "   ---- ----------------------------------- 1.3/11.6 MB 3.7 MB/s eta 0:00:03\n",
      "   ----- ---------------------------------- 1.5/11.6 MB 3.9 MB/s eta 0:00:03\n",
      "   ----- ---------------------------------- 1.7/11.6 MB 3.9 MB/s eta 0:00:03\n",
      "   ------ --------------------------------- 1.8/11.6 MB 3.9 MB/s eta 0:00:03\n",
      "   ------ --------------------------------- 1.9/11.6 MB 3.8 MB/s eta 0:00:03\n",
      "   ------- -------------------------------- 2.2/11.6 MB 3.8 MB/s eta 0:00:03\n",
      "   -------- ------------------------------- 2.3/11.6 MB 3.9 MB/s eta 0:00:03\n",
      "   -------- ------------------------------- 2.5/11.6 MB 3.9 MB/s eta 0:00:03\n",
      "   --------- ------------------------------ 2.7/11.6 MB 3.9 MB/s eta 0:00:03\n",
      "   --------- ------------------------------ 2.8/11.6 MB 3.8 MB/s eta 0:00:03\n",
      "   ---------- ----------------------------- 3.0/11.6 MB 3.8 MB/s eta 0:00:03\n",
      "   ---------- ----------------------------- 3.1/11.6 MB 3.7 MB/s eta 0:00:03\n",
      "   ----------- ---------------------------- 3.3/11.6 MB 3.7 MB/s eta 0:00:03\n",
      "   ----------- ---------------------------- 3.4/11.6 MB 3.7 MB/s eta 0:00:03\n",
      "   ------------ --------------------------- 3.6/11.6 MB 3.7 MB/s eta 0:00:03\n",
      "   ------------ --------------------------- 3.7/11.6 MB 3.6 MB/s eta 0:00:03\n",
      "   ------------ --------------------------- 3.7/11.6 MB 3.6 MB/s eta 0:00:03\n",
      "   ------------- -------------------------- 4.1/11.6 MB 3.6 MB/s eta 0:00:03\n",
      "   -------------- ------------------------- 4.3/11.6 MB 3.7 MB/s eta 0:00:02\n",
      "   --------------- ------------------------ 4.4/11.6 MB 3.7 MB/s eta 0:00:02\n",
      "   --------------- ------------------------ 4.6/11.6 MB 3.7 MB/s eta 0:00:02\n",
      "   ---------------- ----------------------- 4.7/11.6 MB 3.7 MB/s eta 0:00:02\n",
      "   ---------------- ----------------------- 4.9/11.6 MB 3.6 MB/s eta 0:00:02\n",
      "   ----------------- ---------------------- 5.1/11.6 MB 3.7 MB/s eta 0:00:02\n",
      "   ----------------- ---------------------- 5.2/11.6 MB 3.7 MB/s eta 0:00:02\n",
      "   ------------------ --------------------- 5.4/11.6 MB 3.7 MB/s eta 0:00:02\n",
      "   ------------------ --------------------- 5.5/11.6 MB 3.6 MB/s eta 0:00:02\n",
      "   ------------------- -------------------- 5.7/11.6 MB 3.6 MB/s eta 0:00:02\n",
      "   -------------------- ------------------- 5.9/11.6 MB 3.6 MB/s eta 0:00:02\n",
      "   -------------------- ------------------- 6.0/11.6 MB 3.6 MB/s eta 0:00:02\n",
      "   --------------------- ------------------ 6.2/11.6 MB 3.7 MB/s eta 0:00:02\n",
      "   --------------------- ------------------ 6.3/11.6 MB 3.6 MB/s eta 0:00:02\n",
      "   ---------------------- ----------------- 6.5/11.6 MB 3.7 MB/s eta 0:00:02\n",
      "   ----------------------- ---------------- 6.7/11.6 MB 3.7 MB/s eta 0:00:02\n",
      "   ----------------------- ---------------- 6.9/11.6 MB 3.7 MB/s eta 0:00:02\n",
      "   ------------------------ --------------- 7.1/11.6 MB 3.7 MB/s eta 0:00:02\n",
      "   ------------------------- -------------- 7.3/11.6 MB 3.7 MB/s eta 0:00:02\n",
      "   ------------------------- -------------- 7.5/11.6 MB 3.7 MB/s eta 0:00:02\n",
      "   -------------------------- ------------- 7.7/11.6 MB 3.7 MB/s eta 0:00:02\n",
      "   --------------------------- ------------ 7.9/11.6 MB 3.7 MB/s eta 0:00:02\n",
      "   --------------------------- ------------ 8.0/11.6 MB 3.7 MB/s eta 0:00:01\n",
      "   ---------------------------- ----------- 8.3/11.6 MB 3.7 MB/s eta 0:00:01\n",
      "   ---------------------------- ----------- 8.4/11.6 MB 3.7 MB/s eta 0:00:01\n",
      "   ----------------------------- ---------- 8.6/11.6 MB 3.7 MB/s eta 0:00:01\n",
      "   ------------------------------ --------- 8.8/11.6 MB 3.7 MB/s eta 0:00:01\n",
      "   ------------------------------ --------- 8.9/11.6 MB 3.7 MB/s eta 0:00:01\n",
      "   ------------------------------- -------- 9.1/11.6 MB 3.7 MB/s eta 0:00:01\n",
      "   -------------------------------- ------- 9.3/11.6 MB 3.8 MB/s eta 0:00:01\n",
      "   -------------------------------- ------- 9.5/11.6 MB 3.7 MB/s eta 0:00:01\n",
      "   --------------------------------- ------ 9.7/11.6 MB 3.7 MB/s eta 0:00:01\n",
      "   --------------------------------- ------ 9.9/11.6 MB 3.8 MB/s eta 0:00:01\n",
      "   ---------------------------------- ----- 10.0/11.6 MB 3.8 MB/s eta 0:00:01\n",
      "   ----------------------------------- ---- 10.2/11.6 MB 3.8 MB/s eta 0:00:01\n",
      "   ----------------------------------- ---- 10.3/11.6 MB 3.7 MB/s eta 0:00:01\n",
      "   ------------------------------------ --- 10.5/11.6 MB 3.7 MB/s eta 0:00:01\n",
      "   ------------------------------------ --- 10.5/11.6 MB 3.7 MB/s eta 0:00:01\n",
      "   ------------------------------------ --- 10.5/11.6 MB 3.7 MB/s eta 0:00:01\n",
      "   ------------------------------------- -- 10.9/11.6 MB 3.7 MB/s eta 0:00:01\n",
      "   -------------------------------------- - 11.1/11.6 MB 3.7 MB/s eta 0:00:01\n",
      "   -------------------------------------- - 11.3/11.6 MB 3.7 MB/s eta 0:00:01\n",
      "   ---------------------------------------  11.4/11.6 MB 3.7 MB/s eta 0:00:01\n",
      "   ---------------------------------------  11.6/11.6 MB 3.7 MB/s eta 0:00:01\n",
      "   ---------------------------------------  11.6/11.6 MB 3.7 MB/s eta 0:00:01\n",
      "   ---------------------------------------- 11.6/11.6 MB 3.7 MB/s eta 0:00:00\n",
      "Downloading seaborn-0.13.2-py3-none-any.whl (294 kB)\n",
      "   ---------------------------------------- 0.0/294.9 kB ? eta -:--:--\n",
      "   ---------------------------------- ----- 256.0/294.9 kB 7.7 MB/s eta 0:00:01\n",
      "   ---------------------------------------- 294.9/294.9 kB 4.5 MB/s eta 0:00:00\n",
      "Downloading matplotlib-3.10.1-cp311-cp311-win_amd64.whl (8.1 MB)\n",
      "   ---------------------------------------- 0.0/8.1 MB ? eta -:--:--\n",
      "   - -------------------------------------- 0.3/8.1 MB 5.4 MB/s eta 0:00:02\n",
      "   - -------------------------------------- 0.4/8.1 MB 4.1 MB/s eta 0:00:02\n",
      "   -- ------------------------------------- 0.6/8.1 MB 4.1 MB/s eta 0:00:02\n",
      "   --- ------------------------------------ 0.6/8.1 MB 4.0 MB/s eta 0:00:02\n",
      "   --- ------------------------------------ 0.7/8.1 MB 2.6 MB/s eta 0:00:03\n",
      "   --- ------------------------------------ 0.7/8.1 MB 2.5 MB/s eta 0:00:03\n",
      "   ---- ----------------------------------- 0.9/8.1 MB 2.8 MB/s eta 0:00:03\n",
      "   ----- ---------------------------------- 1.0/8.1 MB 2.9 MB/s eta 0:00:03\n",
      "   ------ --------------------------------- 1.3/8.1 MB 3.0 MB/s eta 0:00:03\n",
      "   ------- -------------------------------- 1.5/8.1 MB 3.2 MB/s eta 0:00:03\n",
      "   -------- ------------------------------- 1.6/8.1 MB 3.2 MB/s eta 0:00:03\n",
      "   --------- ------------------------------ 1.9/8.1 MB 3.5 MB/s eta 0:00:02\n",
      "   ---------- ----------------------------- 2.1/8.1 MB 3.4 MB/s eta 0:00:02\n",
      "   ----------- ---------------------------- 2.3/8.1 MB 3.5 MB/s eta 0:00:02\n",
      "   ----------- ---------------------------- 2.4/8.1 MB 3.4 MB/s eta 0:00:02\n",
      "   ------------ --------------------------- 2.6/8.1 MB 3.5 MB/s eta 0:00:02\n",
      "   ------------- -------------------------- 2.8/8.1 MB 3.6 MB/s eta 0:00:02\n",
      "   -------------- ------------------------- 3.0/8.1 MB 3.6 MB/s eta 0:00:02\n",
      "   --------------- ------------------------ 3.2/8.1 MB 3.7 MB/s eta 0:00:02\n",
      "   ----------------- ---------------------- 3.4/8.1 MB 3.7 MB/s eta 0:00:02\n",
      "   ----------------- ---------------------- 3.6/8.1 MB 3.7 MB/s eta 0:00:02\n",
      "   ------------------ --------------------- 3.7/8.1 MB 3.6 MB/s eta 0:00:02\n",
      "   ------------------- -------------------- 3.8/8.1 MB 3.6 MB/s eta 0:00:02\n",
      "   ------------------- -------------------- 3.9/8.1 MB 3.6 MB/s eta 0:00:02\n",
      "   ------------------- -------------------- 4.0/8.1 MB 3.5 MB/s eta 0:00:02\n",
      "   -------------------- ------------------- 4.2/8.1 MB 3.5 MB/s eta 0:00:02\n",
      "   --------------------- ------------------ 4.4/8.1 MB 3.5 MB/s eta 0:00:02\n",
      "   ---------------------- ----------------- 4.5/8.1 MB 3.6 MB/s eta 0:00:01\n",
      "   ----------------------- ---------------- 4.7/8.1 MB 3.6 MB/s eta 0:00:01\n",
      "   ------------------------ --------------- 4.9/8.1 MB 3.6 MB/s eta 0:00:01\n",
      "   ------------------------ --------------- 5.0/8.1 MB 3.5 MB/s eta 0:00:01\n",
      "   ------------------------- -------------- 5.2/8.1 MB 3.6 MB/s eta 0:00:01\n",
      "   -------------------------- ------------- 5.4/8.1 MB 3.6 MB/s eta 0:00:01\n",
      "   --------------------------- ------------ 5.6/8.1 MB 3.6 MB/s eta 0:00:01\n",
      "   ---------------------------- ----------- 5.7/8.1 MB 3.6 MB/s eta 0:00:01\n",
      "   ---------------------------- ----------- 5.8/8.1 MB 3.5 MB/s eta 0:00:01\n",
      "   ----------------------------- ---------- 6.0/8.1 MB 3.6 MB/s eta 0:00:01\n",
      "   ------------------------------ --------- 6.2/8.1 MB 3.6 MB/s eta 0:00:01\n",
      "   ------------------------------- -------- 6.3/8.1 MB 3.6 MB/s eta 0:00:01\n",
      "   -------------------------------- ------- 6.6/8.1 MB 3.6 MB/s eta 0:00:01\n",
      "   --------------------------------- ------ 6.7/8.1 MB 3.6 MB/s eta 0:00:01\n",
      "   --------------------------------- ------ 6.8/8.1 MB 3.6 MB/s eta 0:00:01\n",
      "   ---------------------------------- ----- 7.0/8.1 MB 3.6 MB/s eta 0:00:01\n",
      "   ----------------------------------- ---- 7.2/8.1 MB 3.6 MB/s eta 0:00:01\n",
      "   ------------------------------------ --- 7.3/8.1 MB 3.6 MB/s eta 0:00:01\n",
      "   ------------------------------------- -- 7.5/8.1 MB 3.6 MB/s eta 0:00:01\n",
      "   ------------------------------------- -- 7.6/8.1 MB 3.6 MB/s eta 0:00:01\n",
      "   ------------------------------------- -- 7.6/8.1 MB 3.6 MB/s eta 0:00:01\n",
      "   ---------------------------------------  7.9/8.1 MB 3.6 MB/s eta 0:00:01\n",
      "   ---------------------------------------  8.1/8.1 MB 3.6 MB/s eta 0:00:01\n",
      "   ---------------------------------------- 8.1/8.1 MB 3.5 MB/s eta 0:00:00\n",
      "Downloading numpy-2.2.4-cp311-cp311-win_amd64.whl (12.9 MB)\n",
      "   ---------------------------------------- 0.0/12.9 MB ? eta -:--:--\n",
      "    --------------------------------------- 0.2/12.9 MB 10.9 MB/s eta 0:00:02\n",
      "   - -------------------------------------- 0.3/12.9 MB 5.3 MB/s eta 0:00:03\n",
      "   - -------------------------------------- 0.5/12.9 MB 4.7 MB/s eta 0:00:03\n",
      "   -- ------------------------------------- 0.7/12.9 MB 4.6 MB/s eta 0:00:03\n",
      "   -- ------------------------------------- 0.9/12.9 MB 4.4 MB/s eta 0:00:03\n",
      "   --- ------------------------------------ 1.1/12.9 MB 4.2 MB/s eta 0:00:03\n",
      "   --- ------------------------------------ 1.2/12.9 MB 4.3 MB/s eta 0:00:03\n",
      "   ---- ----------------------------------- 1.3/12.9 MB 3.8 MB/s eta 0:00:04\n",
      "   ---- ----------------------------------- 1.4/12.9 MB 3.8 MB/s eta 0:00:04\n",
      "   ---- ----------------------------------- 1.6/12.9 MB 3.8 MB/s eta 0:00:03\n",
      "   ----- ---------------------------------- 1.8/12.9 MB 3.9 MB/s eta 0:00:03\n",
      "   ----- ---------------------------------- 1.9/12.9 MB 3.7 MB/s eta 0:00:04\n",
      "   ------ --------------------------------- 2.1/12.9 MB 3.7 MB/s eta 0:00:03\n",
      "   ------- -------------------------------- 2.3/12.9 MB 3.7 MB/s eta 0:00:03\n",
      "   ------- -------------------------------- 2.4/12.9 MB 3.7 MB/s eta 0:00:03\n",
      "   ------- -------------------------------- 2.5/12.9 MB 3.7 MB/s eta 0:00:03\n",
      "   -------- ------------------------------- 2.7/12.9 MB 3.6 MB/s eta 0:00:03\n",
      "   -------- ------------------------------- 2.9/12.9 MB 3.6 MB/s eta 0:00:03\n",
      "   --------- ------------------------------ 3.0/12.9 MB 3.6 MB/s eta 0:00:03\n",
      "   --------- ------------------------------ 3.2/12.9 MB 3.6 MB/s eta 0:00:03\n",
      "   --------- ------------------------------ 3.2/12.9 MB 3.5 MB/s eta 0:00:03\n",
      "   ---------- ----------------------------- 3.4/12.9 MB 3.5 MB/s eta 0:00:03\n",
      "   ----------- ---------------------------- 3.6/12.9 MB 3.4 MB/s eta 0:00:03\n",
      "   ----------- ---------------------------- 3.7/12.9 MB 3.5 MB/s eta 0:00:03\n",
      "   ----------- ---------------------------- 3.9/12.9 MB 3.5 MB/s eta 0:00:03\n",
      "   ------------ --------------------------- 4.1/12.9 MB 3.5 MB/s eta 0:00:03\n",
      "   ------------ --------------------------- 4.2/12.9 MB 3.5 MB/s eta 0:00:03\n",
      "   ------------- -------------------------- 4.3/12.9 MB 3.4 MB/s eta 0:00:03\n",
      "   ------------- -------------------------- 4.5/12.9 MB 3.5 MB/s eta 0:00:03\n",
      "   -------------- ------------------------- 4.6/12.9 MB 3.5 MB/s eta 0:00:03\n",
      "   -------------- ------------------------- 4.8/12.9 MB 3.4 MB/s eta 0:00:03\n",
      "   --------------- ------------------------ 4.9/12.9 MB 3.4 MB/s eta 0:00:03\n",
      "   --------------- ------------------------ 5.1/12.9 MB 3.4 MB/s eta 0:00:03\n",
      "   ---------------- ----------------------- 5.2/12.9 MB 3.4 MB/s eta 0:00:03\n",
      "   ---------------- ----------------------- 5.4/12.9 MB 3.4 MB/s eta 0:00:03\n",
      "   ---------------- ----------------------- 5.5/12.9 MB 3.4 MB/s eta 0:00:03\n",
      "   ----------------- ---------------------- 5.6/12.9 MB 3.4 MB/s eta 0:00:03\n",
      "   ----------------- ---------------------- 5.7/12.9 MB 3.4 MB/s eta 0:00:03\n",
      "   ------------------ --------------------- 5.9/12.9 MB 3.4 MB/s eta 0:00:03\n",
      "   ------------------ --------------------- 6.0/12.9 MB 3.4 MB/s eta 0:00:03\n",
      "   ------------------- -------------------- 6.2/12.9 MB 3.4 MB/s eta 0:00:02\n",
      "   ------------------- -------------------- 6.3/12.9 MB 3.4 MB/s eta 0:00:02\n",
      "   ------------------- -------------------- 6.5/12.9 MB 3.4 MB/s eta 0:00:02\n",
      "   -------------------- ------------------- 6.6/12.9 MB 3.4 MB/s eta 0:00:02\n",
      "   --------------------- ------------------ 6.8/12.9 MB 3.4 MB/s eta 0:00:02\n",
      "   --------------------- ------------------ 6.9/12.9 MB 3.4 MB/s eta 0:00:02\n",
      "   --------------------- ------------------ 7.1/12.9 MB 3.4 MB/s eta 0:00:02\n",
      "   ---------------------- ----------------- 7.2/12.9 MB 3.4 MB/s eta 0:00:02\n",
      "   ---------------------- ----------------- 7.4/12.9 MB 3.4 MB/s eta 0:00:02\n",
      "   ----------------------- ---------------- 7.5/12.9 MB 3.4 MB/s eta 0:00:02\n",
      "   ----------------------- ---------------- 7.7/12.9 MB 3.4 MB/s eta 0:00:02\n",
      "   ------------------------ --------------- 7.8/12.9 MB 3.4 MB/s eta 0:00:02\n",
      "   ------------------------ --------------- 7.8/12.9 MB 3.3 MB/s eta 0:00:02\n",
      "   ------------------------ --------------- 8.1/12.9 MB 3.3 MB/s eta 0:00:02\n",
      "   ------------------------- -------------- 8.2/12.9 MB 3.3 MB/s eta 0:00:02\n",
      "   ------------------------- -------------- 8.4/12.9 MB 3.3 MB/s eta 0:00:02\n",
      "   -------------------------- ------------- 8.5/12.9 MB 3.3 MB/s eta 0:00:02\n",
      "   -------------------------- ------------- 8.7/12.9 MB 3.3 MB/s eta 0:00:02\n",
      "   --------------------------- ------------ 8.8/12.9 MB 3.3 MB/s eta 0:00:02\n",
      "   --------------------------- ------------ 9.0/12.9 MB 3.3 MB/s eta 0:00:02\n",
      "   ---------------------------- ----------- 9.1/12.9 MB 3.3 MB/s eta 0:00:02\n",
      "   ---------------------------- ----------- 9.2/12.9 MB 3.3 MB/s eta 0:00:02\n",
      "   ---------------------------- ----------- 9.4/12.9 MB 3.3 MB/s eta 0:00:02\n",
      "   ----------------------------- ---------- 9.5/12.9 MB 3.3 MB/s eta 0:00:02\n",
      "   ----------------------------- ---------- 9.6/12.9 MB 3.3 MB/s eta 0:00:02\n",
      "   ------------------------------ --------- 9.8/12.9 MB 3.3 MB/s eta 0:00:01\n",
      "   ------------------------------ --------- 9.9/12.9 MB 3.3 MB/s eta 0:00:01\n",
      "   ------------------------------- -------- 10.1/12.9 MB 3.3 MB/s eta 0:00:01\n",
      "   ------------------------------- -------- 10.1/12.9 MB 3.3 MB/s eta 0:00:01\n",
      "   ------------------------------- -------- 10.3/12.9 MB 3.3 MB/s eta 0:00:01\n",
      "   -------------------------------- ------- 10.4/12.9 MB 3.2 MB/s eta 0:00:01\n",
      "   -------------------------------- ------- 10.6/12.9 MB 3.2 MB/s eta 0:00:01\n",
      "   --------------------------------- ------ 10.7/12.9 MB 3.2 MB/s eta 0:00:01\n",
      "   --------------------------------- ------ 10.9/12.9 MB 3.2 MB/s eta 0:00:01\n",
      "   ---------------------------------- ----- 11.0/12.9 MB 3.2 MB/s eta 0:00:01\n",
      "   ---------------------------------- ----- 11.2/12.9 MB 3.2 MB/s eta 0:00:01\n",
      "   ---------------------------------- ----- 11.3/12.9 MB 3.2 MB/s eta 0:00:01\n",
      "   ----------------------------------- ---- 11.4/12.9 MB 3.2 MB/s eta 0:00:01\n",
      "   ----------------------------------- ---- 11.5/12.9 MB 3.1 MB/s eta 0:00:01\n",
      "   ------------------------------------ --- 11.7/12.9 MB 3.1 MB/s eta 0:00:01\n",
      "   ------------------------------------ --- 11.8/12.9 MB 3.1 MB/s eta 0:00:01\n",
      "   ------------------------------------ --- 11.9/12.9 MB 3.1 MB/s eta 0:00:01\n",
      "   ------------------------------------- -- 12.1/12.9 MB 3.2 MB/s eta 0:00:01\n",
      "   ------------------------------------- -- 12.3/12.9 MB 3.1 MB/s eta 0:00:01\n",
      "   -------------------------------------- - 12.4/12.9 MB 3.1 MB/s eta 0:00:01\n",
      "   -------------------------------------- - 12.6/12.9 MB 3.2 MB/s eta 0:00:01\n",
      "   ---------------------------------------  12.8/12.9 MB 3.2 MB/s eta 0:00:01\n",
      "   ---------------------------------------  12.9/12.9 MB 3.2 MB/s eta 0:00:01\n",
      "   ---------------------------------------- 12.9/12.9 MB 3.1 MB/s eta 0:00:00\n",
      "Downloading contourpy-1.3.1-cp311-cp311-win_amd64.whl (219 kB)\n",
      "   ---------------------------------------- 0.0/219.8 kB ? eta -:--:--\n",
      "   ------------- -------------------------- 71.7/219.8 kB 3.8 MB/s eta 0:00:01\n",
      "   ---------------------------------------  215.0/219.8 kB 2.6 MB/s eta 0:00:01\n",
      "   ---------------------------------------- 219.8/219.8 kB 2.7 MB/s eta 0:00:00\n",
      "Downloading cycler-0.12.1-py3-none-any.whl (8.3 kB)\n",
      "Downloading fonttools-4.56.0-cp311-cp311-win_amd64.whl (2.2 MB)\n",
      "   ---------------------------------------- 0.0/2.2 MB ? eta -:--:--\n",
      "   - -------------------------------------- 0.1/2.2 MB 3.4 MB/s eta 0:00:01\n",
      "   ------ --------------------------------- 0.3/2.2 MB 5.5 MB/s eta 0:00:01\n",
      "   --------- ------------------------------ 0.5/2.2 MB 4.5 MB/s eta 0:00:01\n",
      "   ---------- ----------------------------- 0.6/2.2 MB 3.7 MB/s eta 0:00:01\n",
      "   ------------- -------------------------- 0.8/2.2 MB 4.0 MB/s eta 0:00:01\n",
      "   --------------- ------------------------ 0.8/2.2 MB 3.5 MB/s eta 0:00:01\n",
      "   ----------------- ---------------------- 1.0/2.2 MB 3.4 MB/s eta 0:00:01\n",
      "   -------------------- ------------------- 1.1/2.2 MB 3.3 MB/s eta 0:00:01\n",
      "   ------------------------ --------------- 1.3/2.2 MB 3.5 MB/s eta 0:00:01\n",
      "   -------------------------- ------------- 1.5/2.2 MB 3.6 MB/s eta 0:00:01\n",
      "   ----------------------------- ---------- 1.6/2.2 MB 3.5 MB/s eta 0:00:01\n",
      "   -------------------------------- ------- 1.8/2.2 MB 3.3 MB/s eta 0:00:01\n",
      "   ---------------------------------- ----- 1.9/2.2 MB 3.4 MB/s eta 0:00:01\n",
      "   ------------------------------------ --- 2.0/2.2 MB 3.3 MB/s eta 0:00:01\n",
      "   ---------------------------------------  2.2/2.2 MB 3.3 MB/s eta 0:00:01\n",
      "   ---------------------------------------- 2.2/2.2 MB 3.2 MB/s eta 0:00:00\n",
      "Downloading kiwisolver-1.4.8-cp311-cp311-win_amd64.whl (71 kB)\n",
      "   ---------------------------------------- 0.0/72.0 kB ? eta -:--:--\n",
      "   ---------------------------------------- 72.0/72.0 kB 2.0 MB/s eta 0:00:00\n",
      "Downloading pillow-11.1.0-cp311-cp311-win_amd64.whl (2.6 MB)\n",
      "   ---------------------------------------- 0.0/2.6 MB ? eta -:--:--\n",
      "   -- ------------------------------------- 0.2/2.6 MB 5.3 MB/s eta 0:00:01\n",
      "   ----- ---------------------------------- 0.4/2.6 MB 3.7 MB/s eta 0:00:01\n",
      "   ------- -------------------------------- 0.5/2.6 MB 4.1 MB/s eta 0:00:01\n",
      "   ---------- ----------------------------- 0.7/2.6 MB 3.7 MB/s eta 0:00:01\n",
      "   ------------ --------------------------- 0.8/2.6 MB 3.8 MB/s eta 0:00:01\n",
      "   -------------- ------------------------- 0.9/2.6 MB 3.7 MB/s eta 0:00:01\n",
      "   -------------- ------------------------- 1.0/2.6 MB 3.6 MB/s eta 0:00:01\n",
      "   ------------------ --------------------- 1.2/2.6 MB 3.4 MB/s eta 0:00:01\n",
      "   -------------------- ------------------- 1.4/2.6 MB 3.3 MB/s eta 0:00:01\n",
      "   ---------------------- ----------------- 1.5/2.6 MB 3.3 MB/s eta 0:00:01\n",
      "   ------------------------ --------------- 1.6/2.6 MB 3.2 MB/s eta 0:00:01\n",
      "   --------------------------- ------------ 1.8/2.6 MB 3.4 MB/s eta 0:00:01\n",
      "   ------------------------------ --------- 2.0/2.6 MB 3.4 MB/s eta 0:00:01\n",
      "   ------------------------------- -------- 2.1/2.6 MB 3.3 MB/s eta 0:00:01\n",
      "   ---------------------------------- ----- 2.3/2.6 MB 3.3 MB/s eta 0:00:01\n",
      "   ------------------------------------ --- 2.4/2.6 MB 3.3 MB/s eta 0:00:01\n",
      "   -------------------------------------- - 2.5/2.6 MB 3.3 MB/s eta 0:00:01\n",
      "   ---------------------------------------- 2.6/2.6 MB 3.2 MB/s eta 0:00:00\n",
      "Downloading pyparsing-3.2.1-py3-none-any.whl (107 kB)\n",
      "   ---------------------------------------- 0.0/107.7 kB ? eta -:--:--\n",
      "   ---------------------------------------- 107.7/107.7 kB 3.1 MB/s eta 0:00:00\n",
      "Downloading pytz-2025.1-py2.py3-none-any.whl (507 kB)\n",
      "   ---------------------------------------- 0.0/507.9 kB ? eta -:--:--\n",
      "   --------------- ------------------------ 194.6/507.9 kB 3.9 MB/s eta 0:00:01\n",
      "   -------------------- ------------------- 266.2/507.9 kB 4.1 MB/s eta 0:00:01\n",
      "   ------------------------------ --------- 389.1/507.9 kB 3.0 MB/s eta 0:00:01\n",
      "   ------------------------------------- -- 481.3/507.9 kB 2.7 MB/s eta 0:00:01\n",
      "   ---------------------------------------- 507.9/507.9 kB 2.5 MB/s eta 0:00:00\n",
      "Downloading tzdata-2025.1-py2.py3-none-any.whl (346 kB)\n",
      "   ---------------------------------------- 0.0/346.8 kB ? eta -:--:--\n",
      "   -------------------- ------------------- 174.1/346.8 kB 5.1 MB/s eta 0:00:01\n",
      "   ------------------------------------ --- 317.4/346.8 kB 4.9 MB/s eta 0:00:01\n",
      "   ---------------------------------------- 346.8/346.8 kB 3.6 MB/s eta 0:00:00\n",
      "Installing collected packages: pytz, tzdata, pyparsing, pillow, numpy, kiwisolver, fonttools, cycler, pandas, contourpy, matplotlib, seaborn\n",
      "Successfully installed contourpy-1.3.1 cycler-0.12.1 fonttools-4.56.0 kiwisolver-1.4.8 matplotlib-3.10.1 numpy-2.2.4 pandas-2.2.3 pillow-11.1.0 pyparsing-3.2.1 pytz-2025.1 seaborn-0.13.2 tzdata-2025.1\n",
      "Note: you may need to restart the kernel to use updated packages.\n"
     ]
    },
    {
     "name": "stderr",
     "output_type": "stream",
     "text": [
      "\n",
      "[notice] A new release of pip is available: 24.0 -> 25.0.1\n",
      "[notice] To update, run: C:\\Users\\lucas\\AppData\\Local\\Microsoft\\WindowsApps\\PythonSoftwareFoundation.Python.3.11_qbz5n2kfra8p0\\python.exe -m pip install --upgrade pip\n"
     ]
    }
   ],
   "source": [
    "# Instalando as bibliotecas que vamos usar\n",
    "%pip install pandas seaborn matplotlib numpy"
   ]
  },
  {
   "cell_type": "code",
   "execution_count": 2,
   "metadata": {},
   "outputs": [],
   "source": [
    "# Importando as bibliotecas que serão utilizadas. Contudo, caso se sinta necessidade, importe outras bibliotecas que desejar.\n",
    "\n",
    "import pandas as pd\n",
    "import numpy as np\n",
    "import seaborn as sns\n",
    "import matplotlib.pyplot as plt"
   ]
  },
  {
   "cell_type": "markdown",
   "metadata": {},
   "source": [
    "O amigo de Flecha possui um arquivo .csv que há informações que podem ser úteis para nós. Aqui, vai uma breve informação de cada coluna do DataFrame:\n",
    "\n",
    "**Descrição das Colunas do DataFrame:**\n",
    "- **Country**: Nome do país ao qual os dados pertencem.\n",
    "- **Quality of Life Index**: A qualidade de vida em um país como um todo, abarcando fatores como poder de compra, segurança, poluição e custo de vida.\n",
    "- **Purchasing Power Index**: Poder de compra médio da população.\n",
    "- **Safety Index**: Nível de segurança pública em um país,\n",
    "- **Cost of Living Index**: Custo médio de vida em um país, levando em conta preços de bens e serviços essenciais.\n",
    "- **Pollution Index**: Nível de poluição ambiental.\n",
    "- **Climate Index**:  Índice que avalia a qualidade do clima em um país com base em fatores como temperatura, umidade e conforto térmico.\n",
    "- **Health Care Index**: Nível de qualidade do acesso a saúde."
   ]
  },
  {
   "cell_type": "markdown",
   "metadata": {},
   "source": [
    "## **Questão 1**"
   ]
  },
  {
   "cell_type": "markdown",
   "metadata": {},
   "source": [
    "### **a)** Leia o arquivo \"quality_of_life_indices_by_country_2.csv\", e o transforme em um data frame do Pandas."
   ]
  },
  {
   "cell_type": "code",
   "execution_count": null,
   "metadata": {},
   "outputs": [],
   "source": []
  },
  {
   "cell_type": "markdown",
   "metadata": {},
   "source": [
    "### **b)** Podem haver linhas com valores Na. Primeiramente, cheque se há tais linhas, caso elas existam, as remova."
   ]
  },
  {
   "cell_type": "code",
   "execution_count": null,
   "metadata": {},
   "outputs": [],
   "source": []
  },
  {
   "cell_type": "markdown",
   "metadata": {},
   "source": [
    "### **c)** Apesar de haverem outras, vamos utilizar apenas as colunas \"Country\", \"Quality of Life Index\" e \"Purchasing Power Index\". Portanto, exclua as demais."
   ]
  },
  {
   "cell_type": "code",
   "execution_count": null,
   "metadata": {},
   "outputs": [],
   "source": []
  },
  {
   "cell_type": "markdown",
   "metadata": {},
   "source": [
    "### **d)** Feitas as etapas anteriores, agora encontre e apresente os 5 países com maior qualidade de vida, com base na coluna 'Quality of Life Index'."
   ]
  },
  {
   "cell_type": "code",
   "execution_count": null,
   "metadata": {},
   "outputs": [],
   "source": []
  },
  {
   "cell_type": "markdown",
   "metadata": {},
   "source": [
    "### **e)** Agora faça o mesmo processo para encontrar e apresentar os 5 países com maior poder de compra, com base na coluna \"Purchasing Power Index\"."
   ]
  },
  {
   "cell_type": "code",
   "execution_count": null,
   "metadata": {},
   "outputs": [],
   "source": []
  },
  {
   "cell_type": "markdown",
   "metadata": {},
   "source": [
    "### **f)** É de grande importância entender o quanto uma variável pode ter haver com a outra, na hora de implementar novas políticas e diretrizes de qualquer assunto. Um bom pontapé nesse caso é entender a correlação de certas variáveis. Portanto, apresente o valor grau de correlação, lembrando que o mesmo pode ir de -1 a 1."
   ]
  },
  {
   "cell_type": "code",
   "execution_count": null,
   "metadata": {},
   "outputs": [],
   "source": []
  },
  {
   "cell_type": "markdown",
   "metadata": {},
   "source": [
    "### **g)** Produza um gráfico de dispersão que contemple os dados das colunas \"Purchasing Power Index\" e \"Quality of Life Index\", juntamente de uma reta de regressão."
   ]
  },
  {
   "cell_type": "code",
   "execution_count": null,
   "metadata": {},
   "outputs": [],
   "source": []
  },
  {
   "cell_type": "markdown",
   "metadata": {},
   "source": [
    "### **h)** Explore a correlação entre \"Health Care Index\" e \"Cost of Living Index\" utilizando métodos estatísticos e visuais, e explique as técnicas estatísticas utilizadas"
   ]
  },
  {
   "cell_type": "code",
   "execution_count": null,
   "metadata": {},
   "outputs": [],
   "source": []
  },
  {
   "cell_type": "markdown",
   "metadata": {},
   "source": [
    "## **Questão 2**"
   ]
  },
  {
   "cell_type": "markdown",
   "metadata": {},
   "source": [
    "Com o intuito de apresentar suas descobertas para os habitantes de Zootopia, Judy precisa descobrir a melhor forma de expor os dados. Ela pensou em mostrá-los em um mapa interativo, entretanto não sabe fazer isso e precisa da sua ajuda para criar esse mapa."
   ]
  },
  {
   "cell_type": "markdown",
   "metadata": {},
   "source": [
    "### **a)** Utilizando Geopandas, busque métodos para produzir um mapa com todos os indices de qualidade de vida disponíveis no dataframe trabalhado."
   ]
  },
  {
   "cell_type": "markdown",
   "metadata": {},
   "source": [
    "Dica: Utilize gradientes de cores e busque por arquivos .shp para criar seu mapa, caso não conheça, pesquise sobre."
   ]
  },
  {
   "cell_type": "code",
   "execution_count": null,
   "metadata": {},
   "outputs": [],
   "source": []
  }
 ],
 "metadata": {
  "kernelspec": {
   "display_name": "Python 3",
   "language": "python",
   "name": "python3"
  },
  "language_info": {
   "codemirror_mode": {
    "name": "ipython",
    "version": 3
   },
   "file_extension": ".py",
   "mimetype": "text/x-python",
   "name": "python",
   "nbconvert_exporter": "python",
   "pygments_lexer": "ipython3",
   "version": "3.11.9"
  }
 },
 "nbformat": 4,
 "nbformat_minor": 2
}
