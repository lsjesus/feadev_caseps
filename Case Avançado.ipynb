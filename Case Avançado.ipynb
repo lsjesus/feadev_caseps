{
 "cells": [
  {
   "cell_type": "markdown",
   "metadata": {},
   "source": [
    "# **Case Avançado**"
   ]
  },
  {
   "cell_type": "markdown",
   "metadata": {},
   "source": [
    "Judy Hopps, uma coelha da zona rural, vai atrás de seu sonho tornar-se oficial no departamento de polícia da cidade de Zootopia. Juntamente de seu então parceiro Nick, eles vão até o DMV conseguir mais informações para resolverem um caso - e falam com Flecha, um funcionário de lá. Porém, após eles saírem, um amigo de Flecha o questiona se conhece alguém que possa ajudá-lo a analisar informações demográficas de países, com o intuito de implantar novas políticas públicas para Zootopia no futuro. Portanto, o ajudaremos."
   ]
  },
  {
   "cell_type": "code",
   "execution_count": 51,
   "metadata": {},
   "outputs": [
    {
     "name": "stdout",
     "output_type": "stream",
     "text": [
      "Requirement already satisfied: pandas in c:\\users\\lucas\\appdata\\local\\packages\\pythonsoftwarefoundation.python.3.11_qbz5n2kfra8p0\\localcache\\local-packages\\python311\\site-packages (2.2.3)\n",
      "Requirement already satisfied: seaborn in c:\\users\\lucas\\appdata\\local\\packages\\pythonsoftwarefoundation.python.3.11_qbz5n2kfra8p0\\localcache\\local-packages\\python311\\site-packages (0.13.2)\n",
      "Requirement already satisfied: matplotlib in c:\\users\\lucas\\appdata\\local\\packages\\pythonsoftwarefoundation.python.3.11_qbz5n2kfra8p0\\localcache\\local-packages\\python311\\site-packages (3.10.1)\n",
      "Requirement already satisfied: numpy in c:\\users\\lucas\\appdata\\local\\packages\\pythonsoftwarefoundation.python.3.11_qbz5n2kfra8p0\\localcache\\local-packages\\python311\\site-packages (2.2.4)\n",
      "Requirement already satisfied: python-dateutil>=2.8.2 in c:\\users\\lucas\\appdata\\local\\packages\\pythonsoftwarefoundation.python.3.11_qbz5n2kfra8p0\\localcache\\local-packages\\python311\\site-packages (from pandas) (2.9.0.post0)\n",
      "Requirement already satisfied: pytz>=2020.1 in c:\\users\\lucas\\appdata\\local\\packages\\pythonsoftwarefoundation.python.3.11_qbz5n2kfra8p0\\localcache\\local-packages\\python311\\site-packages (from pandas) (2025.1)\n",
      "Requirement already satisfied: tzdata>=2022.7 in c:\\users\\lucas\\appdata\\local\\packages\\pythonsoftwarefoundation.python.3.11_qbz5n2kfra8p0\\localcache\\local-packages\\python311\\site-packages (from pandas) (2025.1)\n",
      "Requirement already satisfied: contourpy>=1.0.1 in c:\\users\\lucas\\appdata\\local\\packages\\pythonsoftwarefoundation.python.3.11_qbz5n2kfra8p0\\localcache\\local-packages\\python311\\site-packages (from matplotlib) (1.3.1)\n",
      "Requirement already satisfied: cycler>=0.10 in c:\\users\\lucas\\appdata\\local\\packages\\pythonsoftwarefoundation.python.3.11_qbz5n2kfra8p0\\localcache\\local-packages\\python311\\site-packages (from matplotlib) (0.12.1)\n",
      "Requirement already satisfied: fonttools>=4.22.0 in c:\\users\\lucas\\appdata\\local\\packages\\pythonsoftwarefoundation.python.3.11_qbz5n2kfra8p0\\localcache\\local-packages\\python311\\site-packages (from matplotlib) (4.56.0)\n",
      "Requirement already satisfied: kiwisolver>=1.3.1 in c:\\users\\lucas\\appdata\\local\\packages\\pythonsoftwarefoundation.python.3.11_qbz5n2kfra8p0\\localcache\\local-packages\\python311\\site-packages (from matplotlib) (1.4.8)\n",
      "Requirement already satisfied: packaging>=20.0 in c:\\users\\lucas\\appdata\\local\\packages\\pythonsoftwarefoundation.python.3.11_qbz5n2kfra8p0\\localcache\\local-packages\\python311\\site-packages (from matplotlib) (24.2)\n",
      "Requirement already satisfied: pillow>=8 in c:\\users\\lucas\\appdata\\local\\packages\\pythonsoftwarefoundation.python.3.11_qbz5n2kfra8p0\\localcache\\local-packages\\python311\\site-packages (from matplotlib) (11.1.0)\n",
      "Requirement already satisfied: pyparsing>=2.3.1 in c:\\users\\lucas\\appdata\\local\\packages\\pythonsoftwarefoundation.python.3.11_qbz5n2kfra8p0\\localcache\\local-packages\\python311\\site-packages (from matplotlib) (3.2.1)\n",
      "Requirement already satisfied: six>=1.5 in c:\\users\\lucas\\appdata\\local\\packages\\pythonsoftwarefoundation.python.3.11_qbz5n2kfra8p0\\localcache\\local-packages\\python311\\site-packages (from python-dateutil>=2.8.2->pandas) (1.17.0)\n",
      "Note: you may need to restart the kernel to use updated packages.\n"
     ]
    },
    {
     "name": "stderr",
     "output_type": "stream",
     "text": [
      "\n",
      "[notice] A new release of pip is available: 24.0 -> 25.0.1\n",
      "[notice] To update, run: C:\\Users\\lucas\\AppData\\Local\\Microsoft\\WindowsApps\\PythonSoftwareFoundation.Python.3.11_qbz5n2kfra8p0\\python.exe -m pip install --upgrade pip\n"
     ]
    }
   ],
   "source": [
    "# Instalando as bibliotecas que vamos usar\n",
    "%pip install pandas seaborn matplotlib numpy"
   ]
  },
  {
   "cell_type": "code",
   "execution_count": 52,
   "metadata": {},
   "outputs": [],
   "source": [
    "# Importando as bibliotecas que serão utilizadas. Contudo, caso se sinta necessidade, importe outras bibliotecas que desejar.\n",
    "\n",
    "import pandas as pd\n",
    "import numpy as np\n",
    "import seaborn as sns\n",
    "import matplotlib.pyplot as plt"
   ]
  },
  {
   "cell_type": "markdown",
   "metadata": {},
   "source": [
    "O amigo de Flecha possui um arquivo .csv que há informações que podem ser úteis para nós. Aqui, vai uma breve informação de cada coluna do DataFrame:\n",
    "\n",
    "**Descrição das Colunas do DataFrame:**\n",
    "- **Country**: Nome do país ao qual os dados pertencem.\n",
    "- **Quality of Life Index**: A qualidade de vida em um país como um todo, abarcando fatores como poder de compra, segurança, poluição e custo de vida.\n",
    "- **Purchasing Power Index**: Poder de compra médio da população.\n",
    "- **Safety Index**: Nível de segurança pública em um país,\n",
    "- **Cost of Living Index**: Custo médio de vida em um país, levando em conta preços de bens e serviços essenciais.\n",
    "- **Pollution Index**: Nível de poluição ambiental.\n",
    "- **Climate Index**:  Índice que avalia a qualidade do clima em um país com base em fatores como temperatura, umidade e conforto térmico.\n",
    "- **Health Care Index**: Nível de qualidade do acesso a saúde."
   ]
  },
  {
   "cell_type": "markdown",
   "metadata": {},
   "source": [
    "## **Questão 1**"
   ]
  },
  {
   "cell_type": "markdown",
   "metadata": {},
   "source": [
    "### **a)** Leia o arquivo \"quality_of_life_indices_by_country_2.csv\", e o transforme em um data frame do Pandas."
   ]
  },
  {
   "cell_type": "code",
   "execution_count": 53,
   "metadata": {},
   "outputs": [
    {
     "data": {
      "text/html": [
       "<div>\n",
       "<style scoped>\n",
       "    .dataframe tbody tr th:only-of-type {\n",
       "        vertical-align: middle;\n",
       "    }\n",
       "\n",
       "    .dataframe tbody tr th {\n",
       "        vertical-align: top;\n",
       "    }\n",
       "\n",
       "    .dataframe thead th {\n",
       "        text-align: right;\n",
       "    }\n",
       "</style>\n",
       "<table border=\"1\" class=\"dataframe\">\n",
       "  <thead>\n",
       "    <tr style=\"text-align: right;\">\n",
       "      <th></th>\n",
       "      <th>Country</th>\n",
       "      <th>Quality of Life Index</th>\n",
       "      <th>Purchasing Power Index</th>\n",
       "      <th>Safety Index</th>\n",
       "      <th>Health Care Index</th>\n",
       "      <th>Cost of Living Index</th>\n",
       "      <th>Pollution Index</th>\n",
       "      <th>Climate Index</th>\n",
       "    </tr>\n",
       "  </thead>\n",
       "  <tbody>\n",
       "    <tr>\n",
       "      <th>0</th>\n",
       "      <td>Austria</td>\n",
       "      <td>192.9</td>\n",
       "      <td>110.0</td>\n",
       "      <td>70.5</td>\n",
       "      <td>77.9</td>\n",
       "      <td>60.7</td>\n",
       "      <td>20.9</td>\n",
       "      <td>77.8</td>\n",
       "    </tr>\n",
       "    <tr>\n",
       "      <th>1</th>\n",
       "      <td>Qatar</td>\n",
       "      <td>193.3</td>\n",
       "      <td>185.7</td>\n",
       "      <td>84.2</td>\n",
       "      <td>73.4</td>\n",
       "      <td>47.5</td>\n",
       "      <td>60.0</td>\n",
       "      <td>36.0</td>\n",
       "    </tr>\n",
       "    <tr>\n",
       "      <th>2</th>\n",
       "      <td>Estonia</td>\n",
       "      <td>185.7</td>\n",
       "      <td>86.0</td>\n",
       "      <td>76.3</td>\n",
       "      <td>75.5</td>\n",
       "      <td>49.4</td>\n",
       "      <td>17.0</td>\n",
       "      <td>64.3</td>\n",
       "    </tr>\n",
       "    <tr>\n",
       "      <th>3</th>\n",
       "      <td>Denmark</td>\n",
       "      <td>209.9</td>\n",
       "      <td>137.3</td>\n",
       "      <td>74.0</td>\n",
       "      <td>78.4</td>\n",
       "      <td>66.9</td>\n",
       "      <td>20.6</td>\n",
       "      <td>82.5</td>\n",
       "    </tr>\n",
       "    <tr>\n",
       "      <th>4</th>\n",
       "      <td>Panama</td>\n",
       "      <td>124.4</td>\n",
       "      <td>47.9</td>\n",
       "      <td>57.3</td>\n",
       "      <td>60.7</td>\n",
       "      <td>43.9</td>\n",
       "      <td>55.6</td>\n",
       "      <td>67.8</td>\n",
       "    </tr>\n",
       "  </tbody>\n",
       "</table>\n",
       "</div>"
      ],
      "text/plain": [
       "   Country  Quality of Life Index  Purchasing Power Index  Safety Index  \\\n",
       "0  Austria                  192.9                   110.0          70.5   \n",
       "1    Qatar                  193.3                   185.7          84.2   \n",
       "2  Estonia                  185.7                    86.0          76.3   \n",
       "3  Denmark                  209.9                   137.3          74.0   \n",
       "4   Panama                  124.4                    47.9          57.3   \n",
       "\n",
       "   Health Care Index  Cost of Living Index  Pollution Index  Climate Index  \n",
       "0               77.9                  60.7             20.9           77.8  \n",
       "1               73.4                  47.5             60.0           36.0  \n",
       "2               75.5                  49.4             17.0           64.3  \n",
       "3               78.4                  66.9             20.6           82.5  \n",
       "4               60.7                  43.9             55.6           67.8  "
      ]
     },
     "execution_count": 53,
     "metadata": {},
     "output_type": "execute_result"
    }
   ],
   "source": [
    "df = pd.read_csv('Dados/quality_of_life_indices_by_country_2.csv') #Lê o csv e atribui a varíavel \"df\" o dataframe criado\n",
    "df.head() #Exibe as 5 primeiras linhas do dataframe"
   ]
  },
  {
   "cell_type": "markdown",
   "metadata": {},
   "source": [
    "### **b)** Podem haver linhas com valores Na. Primeiramente, cheque se há tais linhas, caso elas existam, as remova."
   ]
  },
  {
   "cell_type": "code",
   "execution_count": 54,
   "metadata": {},
   "outputs": [
    {
     "data": {
      "text/plain": [
       "Country                   True\n",
       "Quality of Life Index     True\n",
       "Purchasing Power Index    True\n",
       "Safety Index              True\n",
       "Health Care Index         True\n",
       "Cost of Living Index      True\n",
       "Pollution Index           True\n",
       "Climate Index             True\n",
       "dtype: bool"
      ]
     },
     "execution_count": 54,
     "metadata": {},
     "output_type": "execute_result"
    }
   ],
   "source": [
    "df.isna().any() #Função isna() irá atribuir para cada valor um Boolean dizendo se é na. A função any() retorna se exciste pelo menos 1 ocorrência verdadeira"
   ]
  },
  {
   "cell_type": "code",
   "execution_count": 55,
   "metadata": {},
   "outputs": [],
   "source": [
    "df = df.dropna() #Para remover, necessário usar a função dropna, no entanto ela não modifica o df raiz, então é necessário reatribuir o df principal com o novo df modificado"
   ]
  },
  {
   "cell_type": "code",
   "execution_count": 56,
   "metadata": {},
   "outputs": [
    {
     "data": {
      "text/plain": [
       "Country                   False\n",
       "Quality of Life Index     False\n",
       "Purchasing Power Index    False\n",
       "Safety Index              False\n",
       "Health Care Index         False\n",
       "Cost of Living Index      False\n",
       "Pollution Index           False\n",
       "Climate Index             False\n",
       "dtype: bool"
      ]
     },
     "execution_count": 56,
     "metadata": {},
     "output_type": "execute_result"
    }
   ],
   "source": [
    "df.isna().any() #Verificando se funcionou a remoção."
   ]
  },
  {
   "cell_type": "markdown",
   "metadata": {},
   "source": [
    "### **c)** Apesar de haverem outras, vamos utilizar apenas as colunas \"Country\", \"Quality of Life Index\" e \"Purchasing Power Index\". Portanto, exclua as demais."
   ]
  },
  {
   "cell_type": "code",
   "execution_count": 57,
   "metadata": {},
   "outputs": [
    {
     "data": {
      "text/html": [
       "<div>\n",
       "<style scoped>\n",
       "    .dataframe tbody tr th:only-of-type {\n",
       "        vertical-align: middle;\n",
       "    }\n",
       "\n",
       "    .dataframe tbody tr th {\n",
       "        vertical-align: top;\n",
       "    }\n",
       "\n",
       "    .dataframe thead th {\n",
       "        text-align: right;\n",
       "    }\n",
       "</style>\n",
       "<table border=\"1\" class=\"dataframe\">\n",
       "  <thead>\n",
       "    <tr style=\"text-align: right;\">\n",
       "      <th></th>\n",
       "      <th>Country</th>\n",
       "      <th>Quality of Life Index</th>\n",
       "      <th>Purchasing Power Index</th>\n",
       "    </tr>\n",
       "  </thead>\n",
       "  <tbody>\n",
       "    <tr>\n",
       "      <th>0</th>\n",
       "      <td>Austria</td>\n",
       "      <td>192.9</td>\n",
       "      <td>110.0</td>\n",
       "    </tr>\n",
       "    <tr>\n",
       "      <th>1</th>\n",
       "      <td>Qatar</td>\n",
       "      <td>193.3</td>\n",
       "      <td>185.7</td>\n",
       "    </tr>\n",
       "    <tr>\n",
       "      <th>2</th>\n",
       "      <td>Estonia</td>\n",
       "      <td>185.7</td>\n",
       "      <td>86.0</td>\n",
       "    </tr>\n",
       "    <tr>\n",
       "      <th>3</th>\n",
       "      <td>Denmark</td>\n",
       "      <td>209.9</td>\n",
       "      <td>137.3</td>\n",
       "    </tr>\n",
       "    <tr>\n",
       "      <th>4</th>\n",
       "      <td>Panama</td>\n",
       "      <td>124.4</td>\n",
       "      <td>47.9</td>\n",
       "    </tr>\n",
       "    <tr>\n",
       "      <th>...</th>\n",
       "      <td>...</td>\n",
       "      <td>...</td>\n",
       "      <td>...</td>\n",
       "    </tr>\n",
       "    <tr>\n",
       "      <th>90</th>\n",
       "      <td>Hungary</td>\n",
       "      <td>144.6</td>\n",
       "      <td>72.4</td>\n",
       "    </tr>\n",
       "    <tr>\n",
       "      <th>91</th>\n",
       "      <td>Israel</td>\n",
       "      <td>163.6</td>\n",
       "      <td>113.3</td>\n",
       "    </tr>\n",
       "    <tr>\n",
       "      <th>92</th>\n",
       "      <td>South Korea</td>\n",
       "      <td>147.7</td>\n",
       "      <td>107.2</td>\n",
       "    </tr>\n",
       "    <tr>\n",
       "      <th>93</th>\n",
       "      <td>Bangladesh</td>\n",
       "      <td>73.9</td>\n",
       "      <td>35.9</td>\n",
       "    </tr>\n",
       "    <tr>\n",
       "      <th>94</th>\n",
       "      <td>Malaysia</td>\n",
       "      <td>135.8</td>\n",
       "      <td>85.6</td>\n",
       "    </tr>\n",
       "  </tbody>\n",
       "</table>\n",
       "<p>88 rows × 3 columns</p>\n",
       "</div>"
      ],
      "text/plain": [
       "        Country  Quality of Life Index  Purchasing Power Index\n",
       "0       Austria                  192.9                   110.0\n",
       "1         Qatar                  193.3                   185.7\n",
       "2       Estonia                  185.7                    86.0\n",
       "3       Denmark                  209.9                   137.3\n",
       "4        Panama                  124.4                    47.9\n",
       "..          ...                    ...                     ...\n",
       "90      Hungary                  144.6                    72.4\n",
       "91       Israel                  163.6                   113.3\n",
       "92  South Korea                  147.7                   107.2\n",
       "93   Bangladesh                   73.9                    35.9\n",
       "94     Malaysia                  135.8                    85.6\n",
       "\n",
       "[88 rows x 3 columns]"
      ]
     },
     "metadata": {},
     "output_type": "display_data"
    }
   ],
   "source": [
    "df = df[['Country', 'Quality of Life Index', 'Purchasing Power Index']] #Selecionar apenas as colunas de interesse e reatribuir ao df\n",
    "display(df) #Para visualizar"
   ]
  },
  {
   "cell_type": "markdown",
   "metadata": {},
   "source": [
    "### **d)** Feitas as etapas anteriores, agora encontre e apresente os 5 países com maior qualidade de vida, com base na coluna 'Quality of Life Index'."
   ]
  },
  {
   "cell_type": "code",
   "execution_count": 58,
   "metadata": {},
   "outputs": [
    {
     "data": {
      "text/html": [
       "<div>\n",
       "<style scoped>\n",
       "    .dataframe tbody tr th:only-of-type {\n",
       "        vertical-align: middle;\n",
       "    }\n",
       "\n",
       "    .dataframe tbody tr th {\n",
       "        vertical-align: top;\n",
       "    }\n",
       "\n",
       "    .dataframe thead th {\n",
       "        text-align: right;\n",
       "    }\n",
       "</style>\n",
       "<table border=\"1\" class=\"dataframe\">\n",
       "  <thead>\n",
       "    <tr style=\"text-align: right;\">\n",
       "      <th></th>\n",
       "      <th>Country</th>\n",
       "      <th>Quality of Life Index</th>\n",
       "      <th>Purchasing Power Index</th>\n",
       "    </tr>\n",
       "  </thead>\n",
       "  <tbody>\n",
       "    <tr>\n",
       "      <th>47</th>\n",
       "      <td>Luxembourg</td>\n",
       "      <td>220.1</td>\n",
       "      <td>184.3</td>\n",
       "    </tr>\n",
       "    <tr>\n",
       "      <th>8</th>\n",
       "      <td>Netherlands</td>\n",
       "      <td>211.3</td>\n",
       "      <td>134.5</td>\n",
       "    </tr>\n",
       "    <tr>\n",
       "      <th>3</th>\n",
       "      <td>Denmark</td>\n",
       "      <td>209.9</td>\n",
       "      <td>137.3</td>\n",
       "    </tr>\n",
       "    <tr>\n",
       "      <th>83</th>\n",
       "      <td>Oman</td>\n",
       "      <td>208.9</td>\n",
       "      <td>153.8</td>\n",
       "    </tr>\n",
       "    <tr>\n",
       "      <th>44</th>\n",
       "      <td>Switzerland</td>\n",
       "      <td>205.0</td>\n",
       "      <td>164.8</td>\n",
       "    </tr>\n",
       "  </tbody>\n",
       "</table>\n",
       "</div>"
      ],
      "text/plain": [
       "        Country  Quality of Life Index  Purchasing Power Index\n",
       "47   Luxembourg                  220.1                   184.3\n",
       "8   Netherlands                  211.3                   134.5\n",
       "3       Denmark                  209.9                   137.3\n",
       "83         Oman                  208.9                   153.8\n",
       "44  Switzerland                  205.0                   164.8"
      ]
     },
     "execution_count": 58,
     "metadata": {},
     "output_type": "execute_result"
    }
   ],
   "source": [
    "df.sort_values('Quality of Life Index', ascending=False).head() #Ordena os países baseado na coluna desejada de maneira decrescente e por meio do head exibe apenas as 5 primeiras linhas"
   ]
  },
  {
   "cell_type": "markdown",
   "metadata": {},
   "source": [
    "### **e)** Agora faça o mesmo processo para encontrar e apresentar os 5 países com maior poder de compra, com base na coluna \"Purchasing Power Index\"."
   ]
  },
  {
   "cell_type": "code",
   "execution_count": 59,
   "metadata": {},
   "outputs": [
    {
     "data": {
      "text/html": [
       "<div>\n",
       "<style scoped>\n",
       "    .dataframe tbody tr th:only-of-type {\n",
       "        vertical-align: middle;\n",
       "    }\n",
       "\n",
       "    .dataframe tbody tr th {\n",
       "        vertical-align: top;\n",
       "    }\n",
       "\n",
       "    .dataframe thead th {\n",
       "        text-align: right;\n",
       "    }\n",
       "</style>\n",
       "<table border=\"1\" class=\"dataframe\">\n",
       "  <thead>\n",
       "    <tr style=\"text-align: right;\">\n",
       "      <th></th>\n",
       "      <th>Country</th>\n",
       "      <th>Quality of Life Index</th>\n",
       "      <th>Purchasing Power Index</th>\n",
       "    </tr>\n",
       "  </thead>\n",
       "  <tbody>\n",
       "    <tr>\n",
       "      <th>1</th>\n",
       "      <td>Qatar</td>\n",
       "      <td>193.3</td>\n",
       "      <td>185.7</td>\n",
       "    </tr>\n",
       "    <tr>\n",
       "      <th>47</th>\n",
       "      <td>Luxembourg</td>\n",
       "      <td>220.1</td>\n",
       "      <td>184.3</td>\n",
       "    </tr>\n",
       "    <tr>\n",
       "      <th>37</th>\n",
       "      <td>Kuwait</td>\n",
       "      <td>160.6</td>\n",
       "      <td>180.3</td>\n",
       "    </tr>\n",
       "    <tr>\n",
       "      <th>44</th>\n",
       "      <td>Switzerland</td>\n",
       "      <td>205.0</td>\n",
       "      <td>164.8</td>\n",
       "    </tr>\n",
       "    <tr>\n",
       "      <th>83</th>\n",
       "      <td>Oman</td>\n",
       "      <td>208.9</td>\n",
       "      <td>153.8</td>\n",
       "    </tr>\n",
       "  </tbody>\n",
       "</table>\n",
       "</div>"
      ],
      "text/plain": [
       "        Country  Quality of Life Index  Purchasing Power Index\n",
       "1         Qatar                  193.3                   185.7\n",
       "47   Luxembourg                  220.1                   184.3\n",
       "37       Kuwait                  160.6                   180.3\n",
       "44  Switzerland                  205.0                   164.8\n",
       "83         Oman                  208.9                   153.8"
      ]
     },
     "execution_count": 59,
     "metadata": {},
     "output_type": "execute_result"
    }
   ],
   "source": [
    "df.sort_values('Purchasing Power Index', ascending=False).head() #Ordena os países baseado na coluna desejada de maneira decrescente e por meio do head exibe apenas as 5 primeiras linhas\n"
   ]
  },
  {
   "cell_type": "markdown",
   "metadata": {},
   "source": [
    "### **f)** É de grande importância entender o quanto uma variável pode ter haver com a outra, na hora de implementar novas políticas e diretrizes de qualquer assunto. Um bom pontapé nesse caso é entender a correlação de certas variáveis. Portanto, apresente o valor grau de correlação, lembrando que o mesmo pode ir de -1 a 1."
   ]
  },
  {
   "cell_type": "code",
   "execution_count": 60,
   "metadata": {},
   "outputs": [
    {
     "data": {
      "text/html": [
       "<div>\n",
       "<style scoped>\n",
       "    .dataframe tbody tr th:only-of-type {\n",
       "        vertical-align: middle;\n",
       "    }\n",
       "\n",
       "    .dataframe tbody tr th {\n",
       "        vertical-align: top;\n",
       "    }\n",
       "\n",
       "    .dataframe thead th {\n",
       "        text-align: right;\n",
       "    }\n",
       "</style>\n",
       "<table border=\"1\" class=\"dataframe\">\n",
       "  <thead>\n",
       "    <tr style=\"text-align: right;\">\n",
       "      <th></th>\n",
       "      <th>Quality of Life Index</th>\n",
       "      <th>Purchasing Power Index</th>\n",
       "    </tr>\n",
       "  </thead>\n",
       "  <tbody>\n",
       "    <tr>\n",
       "      <th>Quality of Life Index</th>\n",
       "      <td>1.000000</td>\n",
       "      <td>0.882789</td>\n",
       "    </tr>\n",
       "    <tr>\n",
       "      <th>Purchasing Power Index</th>\n",
       "      <td>0.882789</td>\n",
       "      <td>1.000000</td>\n",
       "    </tr>\n",
       "  </tbody>\n",
       "</table>\n",
       "</div>"
      ],
      "text/plain": [
       "                        Quality of Life Index  Purchasing Power Index\n",
       "Quality of Life Index                1.000000                0.882789\n",
       "Purchasing Power Index               0.882789                1.000000"
      ]
     },
     "execution_count": 60,
     "metadata": {},
     "output_type": "execute_result"
    }
   ],
   "source": [
    "#Primeiro seleciono as colunas numéricas e depois uso a função de correlação. Como são apenas 2 colunas, selecionei manualmente, mas poderia ter sido feito um filtro para selecionar apenas colunas numéricas automaticamente.\n",
    "df_num = df[['Quality of Life Index', 'Purchasing Power Index']]\n",
    "df_num.corr() \n"
   ]
  },
  {
   "cell_type": "markdown",
   "metadata": {},
   "source": [
    "### **g)** Produza um gráfico de dispersão que contemple os dados das colunas \"Purchasing Power Index\" e \"Quality of Life Index\", juntamente de uma reta de regressão."
   ]
  },
  {
   "cell_type": "code",
   "execution_count": 61,
   "metadata": {},
   "outputs": [
    {
     "data": {
      "image/png": "[encoded data removed]",
      "text/plain": [
       "<Figure size 640x480 with 1 Axes>"
      ]
     },
     "metadata": {},
     "output_type": "display_data"
    }
   ],
   "source": [
    "#Definindo eixos\n",
    "x = df['Quality of Life Index'] #Eixo x\n",
    "y = df['Purchasing Power Index'] #Eixo y\n",
    "\n",
    "#Plotando gráfico \n",
    "plt.scatter(x,y)\n",
    "plt.xlabel('Quality of Life Index') #Define título eixo y\n",
    "plt.ylabel('Purchasing Power Index') #Define título eixo x\n",
    "z = np.polyfit(df['Quality of Life Index'], df['Purchasing Power Index'], 1) #Ajusta o grau de inclinição baseado nos dados informados\n",
    "n = np.poly1d(z) #Cria um objeto para que possamos aplicar no eixo x como uma função\n",
    "plt.plot(x, n(x), \"g--\") #Plota o gráfico adicionando a linha de tendência. O terceiro parâmetro nesse caso serviu para definir a cor da reta\n",
    "plt.show()"
   ]
  },
  {
   "cell_type": "markdown",
   "metadata": {},
   "source": [
    "### **h)** Explore a correlação entre \"Health Care Index\" e \"Cost of Living Index\" utilizando métodos estatísticos e visuais, e explique as técnicas estatísticas utilizadas"
   ]
  },
  {
   "cell_type": "markdown",
   "metadata": {},
   "source": [
    "#### Cálculo do R^2\n",
    "Podemos de certa forma extrair de parte do que fizemos para o gráfico de dispersão o R^2, que é uma métrica que nos ajuda a dizer o quão que a linearidade da tendência é confiável. Quanto mais próximo de 1, mais confiança podemos ter de que existe correlação entre os dados"
   ]
  },
  {
   "cell_type": "code",
   "execution_count": 71,
   "metadata": {},
   "outputs": [
    {
     "name": "stdout",
     "output_type": "stream",
     "text": [
      "0.779316816784966\n"
     ]
    }
   ],
   "source": [
    "t = np.polyval(z,x) #Previsão do modelo de regressão baseado em x\n",
    "residuos = (y-t)\n",
    "soma_residuos = np.sum(residuos**2) #Erro do modelo\n",
    "soma_totais = np.sum((y-np.mean(y))**2) #Variância do modelo\n",
    "r2 = 1 - (soma_residuos / soma_totais) #Calcular a proporção da variância explicada pelo modelo\n",
    "print(r2) #Excelente resultado para o R^2, dando maiores indícios da correlação"
   ]
  },
  {
   "cell_type": "markdown",
   "metadata": {},
   "source": [
    "Aqui basicamente estamos aplicando x ao modelo de regressão que mede a linearidade e depois calculamos o quão esse modelo errou (baseado na diferença entre y e a previsão ao quadrado) e depois o quão cada valor variou em relação a média (cálculo de variância comum aplicado aos dados). \n",
    "\n",
    "Depois, ao fazermos o erro do modelo dividido pela variação, estamos calculando a proporção da variância não explicada pelo modelo. Tirando esse resultado de 1, estamos verificando <b>o quão a variação dos dados está sendo explicada pelo modelo... Em outras palavras: O quão uma variável contribui para a variação de outra</b>"
   ]
  },
  {
   "cell_type": "markdown",
   "metadata": {},
   "source": [
    "#### Gráfico de Resíduos (Residual Plot)\n",
    "Podemos também usar o que foi feito para o cálculo do R^2, pra entender de forma visual o quão bem os dados se correlacionam. \n",
    "\n",
    "Pegando os resíduos extraídos e comparando com a varíavel independente (Quality of Life Index), vimos que os pontos se dispersam bastante de maneira aleatória. \n",
    "\n",
    "Isso significa que os resíduos gerados (erros da regressão) não são significativos."
   ]
  },
  {
   "cell_type": "code",
   "execution_count": 72,
   "metadata": {},
   "outputs": [
    {
     "data": {
      "text/plain": [
       "<matplotlib.collections.PathCollection at 0x1c15feaf5d0>"
      ]
     },
     "execution_count": 72,
     "metadata": {},
     "output_type": "execute_result"
    },
    {
     "data": {
      "image/png": "[encoded data removed]",
      "text/plain": [
       "<Figure size 640x480 with 1 Axes>"
      ]
     },
     "metadata": {},
     "output_type": "display_data"
    }
   ],
   "source": [
    "plt.scatter(x,residuos)"
   ]
  },
  {
   "cell_type": "markdown",
   "metadata": {},
   "source": [
    "## **Questão 2**"
   ]
  },
  {
   "cell_type": "markdown",
   "metadata": {},
   "source": [
    "Com o intuito de apresentar suas descobertas para os habitantes de Zootopia, Judy precisa descobrir a melhor forma de expor os dados. Ela pensou em mostrá-los em um mapa interativo, entretanto não sabe fazer isso e precisa da sua ajuda para criar esse mapa."
   ]
  },
  {
   "cell_type": "markdown",
   "metadata": {},
   "source": [
    "### **a)** Utilizando Geopandas, busque métodos para produzir um mapa com todos os indices de qualidade de vida disponíveis no dataframe trabalhado."
   ]
  },
  {
   "cell_type": "markdown",
   "metadata": {},
   "source": [
    "Dica: Utilize gradientes de cores e busque por arquivos .shp para criar seu mapa, caso não conheça, pesquise sobre."
   ]
  },
  {
   "cell_type": "code",
   "execution_count": null,
   "metadata": {},
   "outputs": [],
   "source": []
  }
 ],
 "metadata": {
  "kernelspec": {
   "display_name": "Python 3",
   "language": "python",
   "name": "python3"
  },
  "language_info": {
   "codemirror_mode": {
    "name": "ipython",
    "version": 3
   },
   "file_extension": ".py",
   "mimetype": "text/x-python",
   "name": "python",
   "nbconvert_exporter": "python",
   "pygments_lexer": "ipython3",
   "version": "3.11.9"
  }
 },
 "nbformat": 4,
 "nbformat_minor": 2
}
